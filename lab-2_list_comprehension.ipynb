{
 "cells": [
  {
   "cell_type": "code",
   "execution_count": 3,
   "id": "de36b2b4",
   "metadata": {},
   "outputs": [
    {
     "data": {
      "text/plain": [
       "[50.0, 77.0, 86.0, 59.0, 95.0]"
      ]
     },
     "execution_count": 3,
     "metadata": {},
     "output_type": "execute_result"
    }
   ],
   "source": [
    "#Adam Daniel P. Azarcon\n",
    "#BSCPE 2-2\n",
    "#09/2025\n",
    "\n",
    "def set_choice(self):\n",
    "    pass\n",
    "\n",
    "def temp_converter():\n",
    "    celsius = [-5, 0, 10, 25, 30, -2, 15, 35]\n",
    "    fahrenheit = [(c*9/5)+32 for c in celsius if c > 0]\n",
    "    return fahrenheit\n",
    "\n",
    "temp_converter()"
   ]
  }
 ],
 "metadata": {
  "kernelspec": {
   "display_name": "Python 3",
   "language": "python",
   "name": "python3"
  },
  "language_info": {
   "codemirror_mode": {
    "name": "ipython",
    "version": 3
   },
   "file_extension": ".py",
   "mimetype": "text/x-python",
   "name": "python",
   "nbconvert_exporter": "python",
   "pygments_lexer": "ipython3",
   "version": "3.11.9"
  }
 },
 "nbformat": 4,
 "nbformat_minor": 5
}
