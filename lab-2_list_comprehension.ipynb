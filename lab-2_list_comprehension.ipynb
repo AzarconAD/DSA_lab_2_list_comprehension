{
 "cells": [
  {
   "cell_type": "markdown",
   "id": "7d40bb25",
   "metadata": {},
   "source": [
    "## Adam Daniel P. Azarcon\n",
    "# BSCPE 2-2\n",
    "# 09/2025"
   ]
  },
  {
   "cell_type": "code",
   "execution_count": 12,
   "id": "de36b2b4",
   "metadata": {},
   "outputs": [],
   "source": [
    "# 1.)\n",
    "def temp_converter():\n",
    "    celsius = [-5, 0, 10, 25, 30, -2, 15, 35]\n",
    "    fahrenheit = [(c*9/5)+32 for c in celsius if c > 0]\n",
    "    return fahrenheit\n",
    "\n",
    "temp_converter()"
   ]
  },
  {
   "cell_type": "code",
   "execution_count": null,
   "id": "08b53a97",
   "metadata": {},
   "outputs": [
    {
     "data": {
      "text/plain": [
       "['Pass', 'Pass', 'Fail', 'Pass', 'Pass']"
      ]
     },
     "execution_count": 22,
     "metadata": {},
     "output_type": "execute_result"
    }
   ],
   "source": [
    "# 2.)\n",
    "def grade_result():\n",
    "    raw_grades = ['85', 'invalid', '92', '78', '', '95', 'not_a_grade', '88']\n",
    "    valid_grades = [int(grades) for grades in raw_grades if grades.isdigit()]\n",
    "    result = [\"Pass\" if grade >= 80 else \"Fail\" for grade in valid_grades]\n",
    "    return result\n",
    "\n",
    "grade_result()"
   ]
  },
  {
   "cell_type": "code",
   "execution_count": null,
   "id": "b8fd97e3",
   "metadata": {},
   "outputs": [
    {
     "data": {
      "text/plain": [
       "['kciuq', 'nworb', 'spmuj']"
      ]
     },
     "execution_count": 28,
     "metadata": {},
     "output_type": "execute_result"
    }
   ],
   "source": [
    "# 3.)\n",
    "def more_than_4_letter_words():\n",
    "    text = \"The quick brown fox jumps over the lazy dog\"\n",
    "    words = text.split()\n",
    "    reversed_words = [w[::-1] for w in words if len(w) > 4]\n",
    "    return reversed_words\n",
    "\n",
    "more_than_4_letter_words()"
   ]
  },
  {
   "cell_type": "code",
   "execution_count": 29,
   "id": "4da765f2",
   "metadata": {},
   "outputs": [
    {
     "data": {
      "text/plain": [
       "['user@gmail.com', 'test@yahoo.com', 'admin@company.org']"
      ]
     },
     "execution_count": 29,
     "metadata": {},
     "output_type": "execute_result"
    }
   ],
   "source": [
    "# 4.)\n",
    "def valid_email_addresses():\n",
    "    email_list = ['user@gmail.com', 'invalid-email', 'test@yahoo.com', 'bad@', 'admin@company.org', 'no-at-sign.com']\n",
    "    valid_emails = [valid for valid in email_list if valid.endswith(('gmail.com', 'yahoo.com', 'company.org'))]\n",
    "    return valid_emails\n",
    "\n",
    "valid_email_addresses()"
   ]
  }
 ],
 "metadata": {
  "kernelspec": {
   "display_name": "Python 3",
   "language": "python",
   "name": "python3"
  },
  "language_info": {
   "codemirror_mode": {
    "name": "ipython",
    "version": 3
   },
   "file_extension": ".py",
   "mimetype": "text/x-python",
   "name": "python",
   "nbconvert_exporter": "python",
   "pygments_lexer": "ipython3",
   "version": "3.11.9"
  }
 },
 "nbformat": 4,
 "nbformat_minor": 5
}
